{
 "cells": [
  {
   "cell_type": "markdown",
   "id": "a9a05f27-eacf-4c19-802e-814a575dfc21",
   "metadata": {},
   "source": [
    "chatbot_project/\n",
    "│\n",
    "├── chatbot.py                  # Python script with chatbot logic\n",
    "├── test_results.txt            # Sample test interaction log\n",
    "└── documentation.txt           # Short summary and limitations\n"
   ]
  },
  {
   "cell_type": "code",
   "execution_count": null,
   "id": "ed3ca40d-2480-46be-b44d-0e1510d688c6",
   "metadata": {},
   "outputs": [
    {
     "name": "stdout",
     "output_type": "stream",
     "text": [
      "Welcome to the Finance Chatbot!\n",
      "Ask a question like:\n",
      "- What is the total revenue?\n",
      "- How has net income changed over the last year?\n",
      "(Type 'exit' to quit)\n",
      "\n"
     ]
    },
    {
     "name": "stdin",
     "output_type": "stream",
     "text": [
      "You:  What is the total revenue?\n"
     ]
    },
    {
     "name": "stdout",
     "output_type": "stream",
     "text": [
      "Chatbot: The total revenue is $2.5 million.\n"
     ]
    },
    {
     "name": "stdin",
     "output_type": "stream",
     "text": [
      "You:  How has net income changed over the last year?\n"
     ]
    },
    {
     "name": "stdout",
     "output_type": "stream",
     "text": [
      "Chatbot: The net income has increased by $200,000.\n"
     ]
    },
    {
     "name": "stdin",
     "output_type": "stream",
     "text": [
      "You:  What is the profit margin?\n"
     ]
    },
    {
     "name": "stdout",
     "output_type": "stream",
     "text": [
      "Chatbot: The profit margin is 15%.\n"
     ]
    },
    {
     "name": "stdin",
     "output_type": "stream",
     "text": [
      "You:  What is the earnings per share?\n"
     ]
    },
    {
     "name": "stdout",
     "output_type": "stream",
     "text": [
      "Chatbot: The earnings per share is $1.35.\n"
     ]
    },
    {
     "name": "stdin",
     "output_type": "stream",
     "text": [
      "You:  What is the CEO's name?\n"
     ]
    },
    {
     "name": "stdout",
     "output_type": "stream",
     "text": [
      "Chatbot: Sorry, I can only provide information on predefined queries.\n"
     ]
    }
   ],
   "source": [
    "# chatbot.py\n",
    "\n",
    "# Predefined analyzed financial data (dummy values for illustration)\n",
    "financial_data = {\n",
    "    \"total_revenue\": \"$2.5 million\",\n",
    "    \"net_income_change\": \"increased by $200,000\",\n",
    "    \"operating_expenses\": \"$1.2 million\",\n",
    "    \"profit_margin\": \"15%\",\n",
    "    \"earnings_per_share\": \"$1.35\"\n",
    "}\n",
    "\n",
    "# Chatbot function\n",
    "def simple_chatbot(user_query):\n",
    "    if user_query == \"What is the total revenue?\":\n",
    "        return f\"The total revenue is {financial_data['total_revenue']}.\"\n",
    "    elif user_query == \"How has net income changed over the last year?\":\n",
    "        return f\"The net income has {financial_data['net_income_change']}.\"\n",
    "    elif user_query == \"What are the operating expenses?\":\n",
    "        return f\"The operating expenses are {financial_data['operating_expenses']}.\"\n",
    "    elif user_query == \"What is the profit margin?\":\n",
    "        return f\"The profit margin is {financial_data['profit_margin']}.\"\n",
    "    elif user_query == \"What is the earnings per share?\":\n",
    "        return f\"The earnings per share is {financial_data['earnings_per_share']}.\"\n",
    "    else:\n",
    "        return \"Sorry, I can only provide information on predefined queries.\"\n",
    "\n",
    "# Command-line interaction\n",
    "if __name__ == \"__main__\":\n",
    "    print(\"Welcome to the Finance Chatbot!\")\n",
    "    print(\"Ask a question like:\\n- What is the total revenue?\\n- How has net income changed over the last year?\\n(Type 'exit' to quit)\\n\")\n",
    "\n",
    "    while True:\n",
    "        query = input(\"You: \")\n",
    "        if query.lower() == \"exit\":\n",
    "            print(\"Chatbot: Goodbye!\")\n",
    "            break\n",
    "        response = simple_chatbot(query)\n",
    "        print(\"Chatbot:\", response)\n"
   ]
  },
  {
   "cell_type": "markdown",
   "id": "c4699340-8397-4361-a77d-f6ced02ba6bf",
   "metadata": {},
   "source": [
    "# Financial Chatbot - Documentation\n",
    "\n",
    "## Overview\n",
    "This prototype is a simple rule-based AI chatbot designed to respond to 5 predefined financial queries using Python. It runs in the command-line interface and uses conditional statements to return responses based on dummy financial data.\n",
    "\n",
    "## Predefined Queries\n",
    "1. What is the total revenue?\n",
    "2. How has net income changed over the last year?\n",
    "3. What are the operating expenses?\n",
    "4. What is the profit margin?\n",
    "5. What is the earnings per share?\n",
    "\n",
    "## How it Works\n",
    "- The chatbot uses `if-else` conditions to match the user's query.\n",
    "- It returns hardcoded (pre-analyzed) financial values.\n",
    "- The script loops for continuous interaction until the user types \"exit\".\n",
    "\n",
    "## Limitations\n",
    "- Only works with exact predefined queries.\n",
    "- Cannot understand natural language variations or perform real-time analysis.\n",
    "- Doesn't use machine learning or external datasets.\n",
    "- No web or GUI interface (console only).\n",
    "\n",
    "## Future Enhancements\n",
    "- Integrate NLP for dynamic queries using libraries like NLTK or spaCy.\n",
    "- Use real-time financial datasets or APIs.\n",
    "- Deploy via Flask or Streamlit for web access.\n"
   ]
  }
 ],
 "metadata": {
  "kernelspec": {
   "display_name": "Python 3 (ipykernel)",
   "language": "python",
   "name": "python3"
  },
  "language_info": {
   "codemirror_mode": {
    "name": "ipython",
    "version": 3
   },
   "file_extension": ".py",
   "mimetype": "text/x-python",
   "name": "python",
   "nbconvert_exporter": "python",
   "pygments_lexer": "ipython3",
   "version": "3.12.7"
  }
 },
 "nbformat": 4,
 "nbformat_minor": 5
}
