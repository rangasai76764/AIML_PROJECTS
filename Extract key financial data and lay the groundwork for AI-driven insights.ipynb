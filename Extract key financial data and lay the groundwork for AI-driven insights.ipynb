{
 "cells": [
  {
   "cell_type": "code",
   "execution_count": 1,
   "id": "89ae8b97-eec5-425f-9439-25b2fd978d92",
   "metadata": {},
   "outputs": [],
   "source": [
    "import pandas as pd"
   ]
  },
  {
   "cell_type": "code",
   "execution_count": 13,
   "id": "b0e9f12e-c87a-45b8-a0a1-9e9b4e0ce63e",
   "metadata": {},
   "outputs": [],
   "source": [
    "df = pd.read_excel(r'C:\\Users\\VENKATSAI\\Desktop\\financial_data.xlsx')"
   ]
  },
  {
   "cell_type": "code",
   "execution_count": 14,
   "id": "7e1a0d5b-04f4-4679-8f70-5a55011aee0a",
   "metadata": {},
   "outputs": [
    {
     "name": "stdout",
     "output_type": "stream",
     "text": [
      "['Company', 'Fiscal Year', 'Total Revenue', 'Net Income', 'Total Assets', 'Total Liabilities', 'Cash Flow from Operating Activities']\n"
     ]
    }
   ],
   "source": [
    "print(df.columns.tolist())"
   ]
  },
  {
   "cell_type": "code",
   "execution_count": 15,
   "id": "4379c19a-719e-4e52-85e7-0c32631e77da",
   "metadata": {},
   "outputs": [],
   "source": [
    "df['Revenue Growth (%)'] = df.groupby(['Company'])['Total Revenue'].pct_change() * 100\n",
    "df['Net Income Growth (%)'] = df.groupby(['Company'])['Net Income'].pct_change() * 100"
   ]
  },
  {
   "cell_type": "code",
   "execution_count": 17,
   "id": "8eec894f-1727-42f3-bf95-adfc3375556c",
   "metadata": {},
   "outputs": [],
   "source": [
    "df['Revenue Growth (%)'] = df.groupby('Company')['Total Revenue'].pct_change() * 100\n",
    "df['Net Income Growth (%)'] = df.groupby('Company')['Net Income'].pct_change() * 100\n",
    "df['Assets Growth (%)'] = df.groupby('Company')['Total Assets'].pct_change() * 100\n",
    "df['Liabilities Growth (%)'] = df.groupby('Company')['Total Liabilities'].pct_change() * 100\n",
    "df['Cash Flow Growth (%)'] = df.groupby('Company')['Cash Flow from Operating Activities'].pct_change() * 100"
   ]
  },
  {
   "cell_type": "code",
   "execution_count": 18,
   "id": "1e3dce28-5cd9-406b-9033-75714c4f24b6",
   "metadata": {
    "scrolled": true
   },
   "outputs": [
    {
     "name": "stdout",
     "output_type": "stream",
     "text": [
      "                              Total Revenue              Net Income           \\\n",
      "                                       mean       max          mean      max   \n",
      "Company                                                                        \n",
      "Apple Inc                     381143.333333  394328.0  97159.333333  99803.0   \n",
      "Microsoft Corporation (MSFT)  192757.666667  211915.0  68790.000000  72738.0   \n",
      "Tesla Inc                      55607.000000   81462.0   6265.333333  12556.0   \n",
      "\n",
      "                             Cash Flow from Operating Activities  \n",
      "                                                            mean  \n",
      "Company                                                           \n",
      "Apple Inc                                          112244.000000  \n",
      "Microsoft Corporation (MSFT)                        84455.333333  \n",
      "Tesla Inc                                           10721.333333  \n"
     ]
    }
   ],
   "source": [
    "summary = df.groupby('Company').agg({\n",
    "    'Total Revenue': ['mean', 'max'],\n",
    "    'Net Income': ['mean', 'max'],\n",
    "    'Cash Flow from Operating Activities': 'mean'\n",
    "})\n",
    "print(summary)\n"
   ]
  },
  {
   "cell_type": "markdown",
   "id": "2c54ff26-0e2e-4c67-b0ab-43a654c0c152",
   "metadata": {},
   "source": [
    "## Microsoft, Tesla, and Apple Financial Analysis (2021-2023)\n",
    "\n",
    "### Overview:\n",
    "This notebook analyzes Total Revenue, Net Income, Total Assets, Total Liabilities, and Operating Cash Flow for Microsoft, Tesla, and Apple using their SEC 10-K filings.\n",
    "\n",
    "### Method:\n",
    "- Manually extracted 10-K data\n",
    "- Calculated YoY growth using pandas\n",
    "- Summarized average and max values for comparison\n"
   ]
  }
 ],
 "metadata": {
  "kernelspec": {
   "display_name": "Python 3 (ipykernel)",
   "language": "python",
   "name": "python3"
  },
  "language_info": {
   "codemirror_mode": {
    "name": "ipython",
    "version": 3
   },
   "file_extension": ".py",
   "mimetype": "text/x-python",
   "name": "python",
   "nbconvert_exporter": "python",
   "pygments_lexer": "ipython3",
   "version": "3.12.7"
  }
 },
 "nbformat": 4,
 "nbformat_minor": 5
}
