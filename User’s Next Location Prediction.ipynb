{
 "cells": [
  {
   "cell_type": "code",
   "execution_count": 13,
   "id": "f189d812-f931-40ba-b521-5a5dbe4018d0",
   "metadata": {},
   "outputs": [
    {
     "name": "stdout",
     "output_type": "stream",
     "text": [
      "Training labels: {1, 2, 3, 4, 5, 6, 7, 8, 9}\n",
      "Testing labels: {1, 10, 2}\n",
      "Accuracy: 0.0\n",
      "Classification Report:\n",
      "               precision    recall  f1-score   support\n",
      "\n",
      "           1       1.00      0.00      0.00       1.0\n",
      "           2       0.00      0.00      0.00       1.0\n",
      "           3       0.00      1.00      0.00       0.0\n",
      "           9       0.00      1.00      0.00       0.0\n",
      "          10       1.00      0.00      0.00       1.0\n",
      "\n",
      "    accuracy                           0.00       3.0\n",
      "   macro avg       0.40      0.40      0.00       3.0\n",
      "weighted avg       0.67      0.00      0.00       3.0\n",
      "\n",
      "Predicted Next Location: [1]\n"
     ]
    }
   ],
   "source": [
    "import pandas as pd\n",
    "import numpy as np\n",
    "import matplotlib.pyplot as plt\n",
    "import seaborn as sns\n",
    "from sklearn.model_selection import train_test_split\n",
    "from sklearn.neighbors import KNeighborsClassifier\n",
    "from sklearn.metrics import accuracy_score, classification_report\n",
    "\n",
    "# Sample Dataset (Increased dataset size for better stratification)\n",
    "data = {\n",
    "    'latitude': [12.92, 12.93, 12.94, 12.95, 12.96, 12.97, 12.98, 12.99, 13.00, 13.01, 12.92, 12.93, 12.94, 12.95, 12.96],\n",
    "    'longitude': [77.61, 77.62, 77.63, 77.64, 77.65, 77.66, 77.67, 77.68, 77.69, 77.70, 77.61, 77.62, 77.63, 77.64, 77.65],\n",
    "    'time': [1, 2, 3, 4, 5, 6, 7, 8, 9, 10, 11, 12, 13, 14, 15],\n",
    "    'next_location': [1, 2, 3, 4, 5, 6, 7, 8, 9, 10, 1, 2, 3, 4, 5]  # Ensuring at least two samples per class\n",
    "}\n",
    "\n",
    "df = pd.DataFrame(data)\n",
    "\n",
    "# Splitting features and target\n",
    "X = df[['latitude', 'longitude', 'time']]\n",
    "y = df['next_location']\n",
    "\n",
    "# Train-test split without stratify to avoid single-instance class issue\n",
    "X_train, X_test, y_train, y_test = train_test_split(X, y, test_size=0.2, random_state=42)\n",
    "\n",
    "# Check train-test label distribution\n",
    "print(\"Training labels:\", set(y_train))\n",
    "print(\"Testing labels:\", set(y_test))\n",
    "\n",
    "# Model training with KNN (k=1 for small dataset)\n",
    "model = KNeighborsClassifier(n_neighbors=1)\n",
    "model.fit(X_train, y_train)\n",
    "\n",
    "# Predictions\n",
    "y_pred = model.predict(X_test)\n",
    "\n",
    "# Evaluation\n",
    "accuracy = accuracy_score(y_test, y_pred)\n",
    "print(\"Accuracy:\", accuracy)\n",
    "print(\"Classification Report:\\n\", classification_report(y_test, y_pred, zero_division=1))\n",
    "\n",
    "# Predicting next location with correct input format\n",
    "sample_input = pd.DataFrame([[13.02, 77.71, 11]], columns=['latitude', 'longitude', 'time'])\n",
    "y_next = model.predict(sample_input)\n",
    "print(\"Predicted Next Location:\", y_next)\n"
   ]
  },
  {
   "cell_type": "code",
   "execution_count": null,
   "id": "b091bf64-7388-44bc-96d5-4a76e63e75b6",
   "metadata": {},
   "outputs": [],
   "source": []
  },
  {
   "cell_type": "code",
   "execution_count": null,
   "id": "902e6064-0421-4cfe-9b28-dfdaf1b54254",
   "metadata": {},
   "outputs": [],
   "source": []
  }
 ],
 "metadata": {
  "kernelspec": {
   "display_name": "Python 3 (ipykernel)",
   "language": "python",
   "name": "python3"
  },
  "language_info": {
   "codemirror_mode": {
    "name": "ipython",
    "version": 3
   },
   "file_extension": ".py",
   "mimetype": "text/x-python",
   "name": "python",
   "nbconvert_exporter": "python",
   "pygments_lexer": "ipython3",
   "version": "3.12.7"
  }
 },
 "nbformat": 4,
 "nbformat_minor": 5
}
